{
 "cells": [
  {
   "cell_type": "code",
   "execution_count": 13,
   "metadata": {},
   "outputs": [],
   "source": [
    "import pandas as pd\n",
    "from math import sqrt\n",
    "import numpy as np"
   ]
  },
  {
   "cell_type": "code",
   "execution_count": 14,
   "metadata": {},
   "outputs": [
    {
     "name": "stdout",
     "output_type": "stream",
     "text": [
      "<class 'pandas.core.frame.DataFrame'>\n",
      "RangeIndex: 9742 entries, 0 to 9741\n",
      "Data columns (total 3 columns):\n",
      " #   Column   Non-Null Count  Dtype \n",
      "---  ------   --------------  ----- \n",
      " 0   movieId  9742 non-null   int64 \n",
      " 1   title    9742 non-null   object\n",
      " 2   genres   9742 non-null   object\n",
      "dtypes: int64(1), object(2)\n",
      "memory usage: 228.5+ KB\n",
      "None\n"
     ]
    }
   ],
   "source": [
    "movies = pd.read_csv('movies.csv')\n",
    "ratings = pd.read_csv('ratings.csv')\n",
    "print(movies.info())"
   ]
  },
  {
   "cell_type": "code",
   "execution_count": 15,
   "metadata": {},
   "outputs": [
    {
     "name": "stdout",
     "output_type": "stream",
     "text": [
      "                           title  rating\n",
      "0               Toy Story (1995)       4\n",
      "1         Misérables, Les (1995)       5\n",
      "2            Pulp Fiction (1994)       4\n",
      "3  Star Trek: Generations (1994)       2\n",
      "4           Jurassic Park (1993)       3\n"
     ]
    }
   ],
   "source": [
    "userInput = [{'title':'Toy Story (1995)', 'rating':4},\n",
    "             {'title':'Misérables, Les (1995)', 'rating':5},\n",
    "             {'title':'Pulp Fiction (1994)', 'rating':4},\n",
    "             {'title':'Star Trek: Generations (1994)', 'rating':2},\n",
    "             {'title':'Jurassic Park (1993)', 'rating':3}]\n",
    "inputMovies = pd.DataFrame(userInput)\n",
    "print(inputMovies)"
   ]
  },
  {
   "cell_type": "code",
   "execution_count": 16,
   "metadata": {},
   "outputs": [
    {
     "name": "stdout",
     "output_type": "stream",
     "text": [
      "   movieId                          title  rating\n",
      "0        1               Toy Story (1995)       4\n",
      "1       73         Misérables, Les (1995)       5\n",
      "2      296            Pulp Fiction (1994)       4\n",
      "3      329  Star Trek: Generations (1994)       2\n",
      "4      480           Jurassic Park (1993)       3\n"
     ]
    }
   ],
   "source": [
    "inputId = movies[movies['title'].isin(inputMovies['title'].tolist())]\n",
    "inputMovies = pd.merge(inputId, inputMovies)\n",
    "inputMovies = inputMovies[['movieId','title','rating']]\n",
    "print(inputMovies)"
   ]
  },
  {
   "cell_type": "code",
   "execution_count": 17,
   "metadata": {},
   "outputs": [
    {
     "name": "stdout",
     "output_type": "stream",
     "text": [
      "         userId  rating  timestamp\n",
      "movieId                           \n",
      "1           215     215        215\n",
      "73           13      13         13\n",
      "296         307     307        307\n",
      "329         108     108        108\n",
      "480         238     238        238\n"
     ]
    }
   ],
   "source": [
    "userSubset = ratings[ratings['movieId'].isin(inputMovies['movieId'].tolist())]\n",
    "print(userSubset.groupby('movieId').count())"
   ]
  },
  {
   "cell_type": "code",
   "execution_count": 18,
   "metadata": {},
   "outputs": [
    {
     "name": "stdout",
     "output_type": "stream",
     "text": [
      "[(288,        userId  movieId  rating   timestamp\n",
      "42114     288        1     4.5  1054568869\n",
      "42128     288       73     3.0   979163671\n",
      "42150     288      296     5.0   978647227\n",
      "42153     288      329     3.5  1054569431\n",
      "42176     288      480     2.0   975691429), (304,        userId  movieId  rating  timestamp\n",
      "45728     304        1     5.0  881428344\n",
      "45742     304       73     4.0  920884193\n",
      "45768     304      296     5.0  891173194\n",
      "45772     304      329     4.0  914132642\n",
      "45785     304      480     4.0  891173581), (476,        userId  movieId  rating  timestamp\n",
      "75355     476        1     4.0  835021447\n",
      "75364     476       73     4.0  835022035\n",
      "75380     476      296     3.0  835021274\n",
      "75386     476      329     3.0  835021384\n",
      "75409     476      480     4.0  835021636), (599,        userId  movieId  rating   timestamp\n",
      "92623     599        1     3.0  1498524204\n",
      "92660     599       73     3.0  1519421396\n",
      "92742     599      296     5.0  1498456867\n",
      "92754     599      329     4.0  1498498979\n",
      "92826     599      480     4.0  1498498722), (600,        userId  movieId  rating   timestamp\n",
      "95101     600        1     2.5  1237764347\n",
      "95118     600       73     3.5  1237760041\n",
      "95154     600      296     4.5  1237712505\n",
      "95158     600      329     3.0  1237859397\n",
      "95187     600      480     3.0  1237850755)]\n"
     ]
    },
    {
     "name": "stderr",
     "output_type": "stream",
     "text": [
      "C:\\Users\\rafae\\AppData\\Local\\Temp\\ipykernel_17944\\2911040200.py:10: FutureWarning: In a future version of pandas, a length 1 tuple will be returned when iterating over a groupby with a grouper equal to a list of length 1. Don't supply a list with a single grouper to avoid this warning.\n",
      "  userSubsetGroup = sorted(userSubsetGroup, key=take_5_elem, reverse=True)\n"
     ]
    }
   ],
   "source": [
    "#Groupby creates several sub dataframes where they all have the same value in the column specified as the parameter\n",
    "userSubsetGroup = userSubset.groupby(['userId'])\n",
    "\n",
    "def take_5_elem(x):\n",
    "    # print (len(x[1]))\n",
    "    return len(x[1])\n",
    "    \n",
    "\n",
    "#Sorting it so users with movie most in common with the input will have priority\n",
    "userSubsetGroup = sorted(userSubsetGroup, key=take_5_elem, reverse=True)\n",
    "\n",
    "userSubsetGroup = userSubsetGroup[0:100]\n",
    "print(userSubsetGroup[0:5])"
   ]
  },
  {
   "cell_type": "code",
   "execution_count": 19,
   "metadata": {},
   "outputs": [],
   "source": [
    "#Store the Pearson Correlation in a dictionary, where the key is the user Id and the value is the coefficient\n",
    "pearsonCorrelationDict = {}\n",
    "\n",
    "#For every user group in our subset\n",
    "for name, group in userSubsetGroup:\n",
    "\n",
    "    #Let's start by sorting the input and current user group so the values aren't mixed up later on\n",
    "    group = group.sort_values(by='movieId')\n",
    "    inputMovies = inputMovies.sort_values(by='movieId')\n",
    "\n",
    "    #Get the N for the formula\n",
    "    nRatings = len(group)\n",
    "\n",
    "    #Get the review scores for the movies that they both have in common\n",
    "    temp_df = inputMovies[inputMovies['movieId'].isin(group['movieId'].tolist())]\n",
    "\n",
    "    #And then store them in a temporary buffer variable in a list format to facilitate future calculations\n",
    "    tempRatingList = temp_df['rating'].tolist()\n",
    "   \n",
    "    #Let's also put the current user group reviews in a list format\n",
    "    tempGroupList = group['rating'].tolist()\n",
    "   \n",
    "    \n",
    "    #Now let's calculate the pearson correlation between two users, so called, x and y manually (check the formula from week 7 slide)\n",
    "    Sxx = sum([i**2 for i in tempRatingList]) - pow(sum(tempRatingList),2)/float(nRatings)\n",
    "    Syy = sum([i**2 for i in tempGroupList]) - pow(sum(tempGroupList),2)/float(nRatings)\n",
    "    Sxy = sum( i*j for i, j in zip(tempRatingList, tempGroupList)) - sum(tempRatingList)*sum(tempGroupList)/float(nRatings)\n",
    "\n",
    "    #If the denominator is different than zero, then divide, else, 0 correlation.\n",
    "    if Sxx != 0 and Syy != 0:\n",
    "        pearsonCorrelationDict[name] = Sxy/sqrt(Sxx*Syy)\n",
    "    else:\n",
    "        pearsonCorrelationDict[name] = 0"
   ]
  },
  {
   "cell_type": "code",
   "execution_count": 20,
   "metadata": {},
   "outputs": [
    {
     "name": "stdout",
     "output_type": "stream",
     "text": [
      "   similarityIndex  userId\n",
      "0         0.220416     288\n",
      "1         0.320256     304\n",
      "2         0.480384     476\n",
      "3        -0.366900     599\n",
      "4         0.318073     600\n"
     ]
    }
   ],
   "source": [
    "pearsonDF = pd.DataFrame.from_dict(pearsonCorrelationDict, orient='index')\n",
    "pearsonDF.columns = ['similarityIndex']\n",
    "pearsonDF['userId'] = pearsonDF.index\n",
    "pearsonDF.index = range(len(pearsonDF))\n",
    "print(pearsonDF.head())"
   ]
  },
  {
   "cell_type": "code",
   "execution_count": 21,
   "metadata": {},
   "outputs": [
    {
     "name": "stdout",
     "output_type": "stream",
     "text": [
      "    similarityIndex  userId\n",
      "79         1.000000     177\n",
      "50         1.000000      63\n",
      "48         1.000000      40\n",
      "70         1.000000     141\n",
      "60         0.981981     102\n"
     ]
    }
   ],
   "source": [
    "topUsers=pearsonDF.sort_values(by='similarityIndex', ascending=False)[0:50]\n",
    "print(topUsers.head())"
   ]
  },
  {
   "cell_type": "code",
   "execution_count": 22,
   "metadata": {},
   "outputs": [
    {
     "name": "stdout",
     "output_type": "stream",
     "text": [
      "    similarityIndex  userId  movieId  rating   timestamp\n",
      "0               1.0     177        1     5.0  1435533535\n",
      "1               1.0     177        2     3.5  1435534109\n",
      "2               1.0     177        7     1.0  1435534432\n",
      "3               1.0     177       11     3.0  1435890660\n",
      "4               1.0     177       16     3.0  1435890664\n",
      "..              ...     ...      ...     ...         ...\n",
      "95              1.0     177      912     5.0  1435536836\n",
      "96              1.0     177      914     4.0  1435534752\n",
      "97              1.0     177      915     5.0  1435535580\n",
      "98              1.0     177      916     5.0  1435535343\n",
      "99              1.0     177      918     4.0  1435719333\n",
      "\n",
      "[100 rows x 5 columns]\n"
     ]
    }
   ],
   "source": [
    "topUsersRating=topUsers.merge(ratings, left_on='userId', right_on='userId', how='inner')\n",
    "print(topUsersRating.head(100))"
   ]
  },
  {
   "cell_type": "code",
   "execution_count": 23,
   "metadata": {},
   "outputs": [
    {
     "name": "stdout",
     "output_type": "stream",
     "text": [
      "   similarityIndex  userId  movieId  rating   timestamp  weightedRating\n",
      "0              1.0     177        1     5.0  1435533535             5.0\n",
      "1              1.0     177        2     3.5  1435534109             3.5\n",
      "2              1.0     177        7     1.0  1435534432             1.0\n",
      "3              1.0     177       11     3.0  1435890660             3.0\n",
      "4              1.0     177       16     3.0  1435890664             3.0\n"
     ]
    }
   ],
   "source": [
    "#Multiplies the similarity by the user’s ratings\n",
    "topUsersRating['weightedRating'] = topUsersRating['similarityIndex']*topUsersRating['rating']\n",
    "print(topUsersRating.head())"
   ]
  },
  {
   "cell_type": "code",
   "execution_count": 24,
   "metadata": {},
   "outputs": [
    {
     "name": "stdout",
     "output_type": "stream",
     "text": [
      "         sum_similarityIndex  sum_weightedRating\n",
      "movieId                                         \n",
      "1                  32.656926          132.858725\n",
      "2                  14.980024           52.934357\n",
      "3                   8.931688           32.119712\n",
      "4                   0.870388            1.740777\n",
      "5                   7.323978           22.585927\n"
     ]
    }
   ],
   "source": [
    "#Applies a sum to the topUsers after grouping it up by movieId\n",
    "tempTopUsersRating = topUsersRating.groupby('movieId').sum()[['similarityIndex','weightedRating']]\n",
    "tempTopUsersRating.columns = ['sum_similarityIndex','sum_weightedRating']\n",
    "print(tempTopUsersRating.head())"
   ]
  },
  {
   "cell_type": "code",
   "execution_count": 25,
   "metadata": {},
   "outputs": [
    {
     "name": "stdout",
     "output_type": "stream",
     "text": [
      "         weighted average recommendation score  movieId\n",
      "movieId                                                \n",
      "1                                     4.068317        1\n",
      "2                                     3.533663        2\n",
      "3                                     3.596152        3\n",
      "4                                     2.000000        4\n",
      "5                                     3.083833        5\n",
      "6                                     3.672136        6\n",
      "7                                     2.625757        7\n",
      "8                                     3.000000        8\n",
      "9                                     3.000000        9\n",
      "10                                    3.192804       10\n"
     ]
    }
   ],
   "source": [
    "#Creates an empty dataframe\n",
    "recommendation_df = pd.DataFrame()\n",
    "\n",
    "#Now we take the weighted average\n",
    "recommendation_df['weighted average recommendation score'] = tempTopUsersRating['sum_weightedRating']/tempTopUsersRating['sum_similarityIndex']\n",
    "recommendation_df['movieId'] = tempTopUsersRating.index\n",
    "print(recommendation_df.head(10))"
   ]
  },
  {
   "cell_type": "code",
   "execution_count": 26,
   "metadata": {},
   "outputs": [
    {
     "name": "stdout",
     "output_type": "stream",
     "text": [
      "         weighted average recommendation score  movieId\n",
      "movieId                                                \n",
      "4021                                       5.0     4021\n",
      "85                                         5.0       85\n",
      "4055                                       5.0     4055\n",
      "2314                                       5.0     2314\n",
      "2648                                       5.0     2648\n",
      "...                                        ...      ...\n",
      "2534                                       0.5     2534\n",
      "8136                                       0.5     8136\n",
      "77427                                      0.5    77427\n",
      "4051                                       0.5     4051\n",
      "6827                                       0.5     6827\n",
      "\n",
      "[5759 rows x 2 columns]\n"
     ]
    }
   ],
   "source": [
    "recommendation_df = recommendation_df.sort_values(by='weighted average recommendation score', ascending=False)\n",
    "print(recommendation_df)"
   ]
  },
  {
   "cell_type": "code",
   "execution_count": 27,
   "metadata": {},
   "outputs": [
    {
     "name": "stdout",
     "output_type": "stream",
     "text": [
      "      movieId                                      title  \\\n",
      "1           2                             Jumanji (1995)   \n",
      "2           3                    Grumpier Old Men (1995)   \n",
      "3           4                   Waiting to Exhale (1995)   \n",
      "4           5         Father of the Bride Part II (1995)   \n",
      "5           6                                Heat (1995)   \n",
      "...       ...                                        ...   \n",
      "9692   184471                         Tomb Raider (2018)   \n",
      "9695   184791  Fred Armisen: Standup for Drummers (2018)   \n",
      "9709   187593                          Deadpool 2 (2018)   \n",
      "9710   187595             Solo: A Star Wars Story (2018)   \n",
      "9713   188301                Ant-Man and the Wasp (2018)   \n",
      "\n",
      "                                      genres  \n",
      "1                 Adventure|Children|Fantasy  \n",
      "2                             Comedy|Romance  \n",
      "3                       Comedy|Drama|Romance  \n",
      "4                                     Comedy  \n",
      "5                      Action|Crime|Thriller  \n",
      "...                                      ...  \n",
      "9692                Action|Adventure|Fantasy  \n",
      "9695                                  Comedy  \n",
      "9709                    Action|Comedy|Sci-Fi  \n",
      "9710        Action|Adventure|Children|Sci-Fi  \n",
      "9713  Action|Adventure|Comedy|Fantasy|Sci-Fi  \n",
      "\n",
      "[5754 rows x 3 columns]\n"
     ]
    }
   ],
   "source": [
    "recommended_movie=movies.loc[movies['movieId'].isin(recommendation_df['movieId'])]\n",
    "\n",
    "#we don't want to recommend the same movie\n",
    "recommended_movie=recommended_movie.loc[~recommended_movie.movieId.isin(userSubset['movieId'])]\n",
    "\n",
    "print(recommended_movie)"
   ]
  }
 ],
 "metadata": {
  "kernelspec": {
   "display_name": "Python 3",
   "language": "python",
   "name": "python3"
  },
  "language_info": {
   "codemirror_mode": {
    "name": "ipython",
    "version": 3
   },
   "file_extension": ".py",
   "mimetype": "text/x-python",
   "name": "python",
   "nbconvert_exporter": "python",
   "pygments_lexer": "ipython3",
   "version": "3.10.11"
  }
 },
 "nbformat": 4,
 "nbformat_minor": 2
}
